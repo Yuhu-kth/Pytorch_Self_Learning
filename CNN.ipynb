{
  "nbformat": 4,
  "nbformat_minor": 0,
  "metadata": {
    "colab": {
      "name": "CNN.ipynb",
      "provenance": [],
      "collapsed_sections": []
    },
    "kernelspec": {
      "name": "python3",
      "display_name": "Python 3"
    }
  },
  "cells": [
    {
      "cell_type": "markdown",
      "metadata": {
        "colab_type": "text",
        "id": "FYaw6yqx-rKc"
      },
      "source": [
        "# Introduction \n",
        "\n",
        "This notebook is about CNN implemented by PyTorch. The used dataset is MNIST.\n",
        "\n"
      ]
    },
    {
      "cell_type": "code",
      "execution_count": 0,
      "metadata": {
        "colab": {},
        "colab_type": "code",
        "id": "VkLw05qm--UL"
      },
      "outputs": [],
      "source": [
        "import os \n",
        "import torch\n",
        "import torch.nn as nn\n",
        "import torch.utils.data as Data\n",
        "import torchvision\n",
        "import matplotlib.pyplot as plt"
      ]
    },
    {
      "cell_type": "code",
      "execution_count": 0,
      "metadata": {
        "colab": {},
        "colab_type": "code",
        "id": "LSEmjeP4_pwD"
      },
      "outputs": [],
      "source": [
        "EPOCH = 1\n",
        "BATCH_SIZE = 50\n",
        "LR = 0.001         # learning rate\n",
        "DOWNLOAD_MNIST = False\n",
        "\n",
        "if not(os.path.exists('./mnist/')) or not os.listdir('./mnist/'):\n",
        "  DOWNLOAD_MNIST = True\n",
        "\n",
        "train_data = torchvision.datasets.MNIST(\n",
        "    root = './mnist/',\n",
        "    train = True,\n",
        "    transform = torchvision.transforms.ToTensor(),\n",
        "\n",
        "    download = DOWNLOAD_MNIST,\n",
        ")"
      ]
    },
    {
      "cell_type": "code",
      "execution_count": 27,
      "metadata": {
        "colab": {
          "base_uri": "https://localhost:8080/",
          "height": 403
        },
        "colab_type": "code",
        "id": "e8ajxJvPBJS4",
        "outputId": "bfba61a9-f6c7-480c-f554-5bdfe9825270"
      },
      "outputs": [
        {
          "name": "stdout",
          "output_type": "stream",
          "text": [
            "torch.Size([60000, 28, 28])\n",
            "torch.Size([60000])\n"
          ]
        },
        {
          "name": "stderr",
          "output_type": "stream",
          "text": [
            "/usr/local/lib/python3.6/dist-packages/torchvision/datasets/mnist.py:55: UserWarning: train_data has been renamed data\n",
            "  warnings.warn(\"train_data has been renamed data\")\n",
            "/usr/local/lib/python3.6/dist-packages/torchvision/datasets/mnist.py:45: UserWarning: train_labels has been renamed targets\n",
            "  warnings.warn(\"train_labels has been renamed targets\")\n"
          ]
        },
        {
          "data": {
            "image/png": "[encoded data removed]",
            "text/plain": [
              "<Figure size 432x288 with 1 Axes>"
            ]
          },
          "metadata": {
            "tags": []
          },
          "output_type": "display_data"
        }
      ],
      "source": [
        "print(train_data.train_data.size())\n",
        "print(train_data.train_labels.size())\n",
        "plt.imshow(train_data.train_data[0].numpy(),cmap='gray')\n",
        "plt.title('%i' % train_data.train_labels[0])\n",
        "plt.show()"
      ]
    },
    {
      "cell_type": "code",
      "execution_count": 28,
      "metadata": {
        "colab": {
          "base_uri": "https://localhost:8080/",
          "height": 105
        },
        "colab_type": "code",
        "id": "q4wrzG1JClGV",
        "outputId": "e7336739-77cd-4e46-8fa2-07c5528f029b"
      },
      "outputs": [
        {
          "name": "stderr",
          "output_type": "stream",
          "text": [
            "/usr/local/lib/python3.6/dist-packages/torchvision/datasets/mnist.py:60: UserWarning: test_data has been renamed data\n",
            "  warnings.warn(\"test_data has been renamed data\")\n",
            "/usr/local/lib/python3.6/dist-packages/torchvision/datasets/mnist.py:50: UserWarning: test_labels has been renamed targets\n",
            "  warnings.warn(\"test_labels has been renamed targets\")\n"
          ]
        }
      ],
      "source": [
        "train_loader = Data.DataLoader(dataset = train_data, batch_size=BATCH_SIZE, shuffle = True)\n",
        "\n",
        "test_data = torchvision.datasets.MNIST(root = './mnist',train = False)\n",
        "test_x = torch.unsqueeze(test_data.test_data, dim = 1).type(torch.FloatTensor)[:2000]/255.\n",
        "test_y = test_data.test_labels[:2000]"
      ]
    },
    {
      "cell_type": "code",
      "execution_count": 29,
      "metadata": {
        "colab": {
          "base_uri": "https://localhost:8080/",
          "height": 238
        },
        "colab_type": "code",
        "id": "a85uxUx2PVBy",
        "outputId": "84ef57c9-a616-4089-96c6-6a6b61ad6708"
      },
      "outputs": [
        {
          "name": "stdout",
          "output_type": "stream",
          "text": [
            "CNN(\n",
            "  (conv1): Sequential(\n",
            "    (0): Conv2d(1, 16, kernel_size=(5, 5), stride=(1, 1), padding=(2, 2))\n",
            "    (1): ReLU()\n",
            "    (2): MaxPool2d(kernel_size=2, stride=2, padding=0, dilation=1, ceil_mode=False)\n",
            "  )\n",
            "  (conv2): Sequential(\n",
            "    (0): Conv2d(16, 32, kernel_size=(5, 5), stride=(1, 1), padding=(2, 2))\n",
            "    (1): ReLU()\n",
            "    (2): MaxPool2d(kernel_size=2, stride=2, padding=0, dilation=1, ceil_mode=False)\n",
            "  )\n",
            "  (out): Linear(in_features=1568, out_features=10, bias=True)\n",
            ")\n"
          ]
        }
      ],
      "source": [
        "class CNN(nn.Module):\n",
        "  def __init__(self):\n",
        "    super(CNN, self).__init__()\n",
        "    self.conv1 = nn.Sequential(  #input shape(1,28,28)\n",
        "        nn.Conv2d(\n",
        "            in_channels = 1,     #input height\n",
        "            out_channels = 16,   #n_filters\n",
        "            kernel_size = 5,    #filter size\n",
        "            stride = 1,\n",
        "            padding = 2,    #padding = (kernel_size-1)/2 if stride =1\n",
        "        ),\n",
        "        nn.ReLU(),\n",
        "        nn.MaxPool2d(kernel_size=2), #choose max value in 2x2 area, output shape(16,14,14)\n",
        "    )\n",
        "    self.conv2 = nn.Sequential(\n",
        "        nn.Conv2d(16, 32, 5, 1, 2),\n",
        "        nn.ReLU(),\n",
        "        nn.MaxPool2d(2),\n",
        "    )\n",
        "    self.out = nn.Linear(32 * 7 * 7, 10) #fully connected layer, output 10 classes\n",
        "\n",
        "  def forward(self, x):\n",
        "    x = self.conv1(x)\n",
        "    x = self.conv2(x)\n",
        "    x = x.view(x.size(0), -1)   #flatten the output of conv2 to (batch_size, 32 * 7 * 7)\n",
        "    output = self.out(x)\n",
        "    return output, x # return x for visualization\n",
        "\n",
        "cnn = CNN()\n",
        "print(cnn) #net architecture "
      ]
    },
    {
      "cell_type": "code",
      "execution_count": 0,
      "metadata": {
        "colab": {},
        "colab_type": "code",
        "id": "2HcrJ9LMSN75"
      },
      "outputs": [],
      "source": [
        "optimizer = torch.optim.Adam(cnn.parameters(), lr = LR) #optimize all cnn parameters\n",
        "loss_func = nn.CrossEntropyLoss()"
      ]
    },
    {
      "cell_type": "code",
      "execution_count": 23,
      "metadata": {
        "colab": {
          "base_uri": "https://localhost:8080/",
          "height": 122
        },
        "colab_type": "code",
        "id": "Nyq_7zAmVEXS",
        "outputId": "b8dda22e-1376-43b6-b8b5-4e3dd80fbbf2"
      },
      "outputs": [
        {
          "name": "stdout",
          "output_type": "stream",
          "text": [
            "Requirement already satisfied: sklearn in /usr/local/lib/python3.6/dist-packages (0.0)\n",
            "Requirement already satisfied: scikit-learn in /usr/local/lib/python3.6/dist-packages (from sklearn) (0.22.2.post1)\n",
            "Requirement already satisfied: scipy>=0.17.0 in /usr/local/lib/python3.6/dist-packages (from scikit-learn->sklearn) (1.4.1)\n",
            "Requirement already satisfied: joblib>=0.11 in /usr/local/lib/python3.6/dist-packages (from scikit-learn->sklearn) (0.14.1)\n",
            "Requirement already satisfied: numpy>=1.11.0 in /usr/local/lib/python3.6/dist-packages (from scikit-learn->sklearn) (1.18.2)\n"
          ]
        }
      ],
      "source": [
        "pip install sklearn"
      ]
    },
    {
      "cell_type": "code",
      "execution_count": 1,
      "metadata": {},
      "outputs": [
        {
          "name": "stdout",
          "output_type": "stream",
          "text": "Please install sklearn for layer visualization\n"
        }
      ],
      "source": [
        "from matplotlib import cm\n",
        "try: from sklearn.maniford import TSNE; HAS_SK = True\n",
        "except: HAS_SK = False;\n",
        "print('Please install sklearn for layer visualization')\n",
        "def plot_with_labels(lowDWeights, labels):\n",
        "  plt.cla()\n",
        "  X, Y =lowDweights[:,0], lowDWeights[:,1]\n",
        "  for x, y, s in zip(X, Y, labels):\n",
        "    c = cm.rainbow(int(225 * s / 9)); plt.text(x,y,s, backgroundcolor = c, fontsize = 9)\n",
        "  plt.xlim(X.min(), X.max());\n",
        "  plt.ylim(Y.min(), Y.max());\n",
        "  plt.title('Visualize last layer');"
      ]
    },
    {
      "cell_type": "code",
      "execution_count": 34,
      "metadata": {
        "colab": {
          "base_uri": "https://localhost:8080/",
          "height": 425
        },
        "colab_type": "code",
        "id": "keJVOFLXVmE6",
        "outputId": "7c7cf799-e1e0-4c8d-cf3a-b1ea3605ec53"
      },
      "outputs": [
        {
          "name": "stdout",
          "output_type": "stream",
          "text": [
            "Epoch: 0 | train loss: 0.1344 |test accuracy: 0.97\n",
            "Epoch: 0 | train loss: 0.0405 |test accuracy: 0.97\n",
            "Epoch: 0 | train loss: 0.0160 |test accuracy: 0.97\n",
            "Epoch: 0 | train loss: 0.0291 |test accuracy: 0.98\n",
            "Epoch: 0 | train loss: 0.0751 |test accuracy: 0.97\n",
            "Epoch: 0 | train loss: 0.0374 |test accuracy: 0.98\n",
            "Epoch: 0 | train loss: 0.0465 |test accuracy: 0.98\n",
            "Epoch: 0 | train loss: 0.0118 |test accuracy: 0.98\n",
            "Epoch: 0 | train loss: 0.0091 |test accuracy: 0.98\n",
            "Epoch: 0 | train loss: 0.0413 |test accuracy: 0.98\n",
            "Epoch: 0 | train loss: 0.1516 |test accuracy: 0.98\n",
            "Epoch: 0 | train loss: 0.0290 |test accuracy: 0.98\n",
            "Epoch: 0 | train loss: 0.1612 |test accuracy: 0.98\n",
            "Epoch: 0 | train loss: 0.2178 |test accuracy: 0.98\n",
            "Epoch: 0 | train loss: 0.0098 |test accuracy: 0.98\n",
            "Epoch: 0 | train loss: 0.0539 |test accuracy: 0.98\n",
            "Epoch: 0 | train loss: 0.0370 |test accuracy: 0.98\n",
            "Epoch: 0 | train loss: 0.0098 |test accuracy: 0.98\n",
            "Epoch: 0 | train loss: 0.0223 |test accuracy: 0.98\n",
            "Epoch: 0 | train loss: 0.4047 |test accuracy: 0.98\n",
            "Epoch: 0 | train loss: 0.0161 |test accuracy: 0.98\n",
            "Epoch: 0 | train loss: 0.0511 |test accuracy: 0.98\n",
            "Epoch: 0 | train loss: 0.0667 |test accuracy: 0.98\n",
            "Epoch: 0 | train loss: 0.0352 |test accuracy: 0.98\n"
          ]
        }
      ],
      "source": [
        "plt.ion()\n",
        "\n",
        "#training and testing\n",
        "for epoch in range(EPOCH):\n",
        "  for step, (b_x, b_y) in enumerate(train_loader):\n",
        "\n",
        "    output = cnn(b_x)[0]\n",
        "    loss = loss_func(output, b_y)\n",
        "    optimizer.zero_grad()\n",
        "    loss.backward()\n",
        "    optimizer.step()\n",
        "\n",
        "    if step % 50 == 0 :\n",
        "      test_output, last_layer = cnn(test_x)\n",
        "      pred_y = torch.max(test_output,1)[1].data.numpy()\n",
        "      accuracy = float((pred_y == test_y.data.numpy()).astype(int).sum()) / float(test_y.size(0))\n",
        "      print('Epoch:', epoch, '| train loss: %.4f' % loss.data.numpy(), '|test accuracy: %.2f' % accuracy)\n",
        "      if HAS_SK:\n",
        "        #visulization of trained flatten layer(T-SNE)\n",
        "        tsne = TSNE(perplexity=30, n_components =2, init = 'pca', n_iter=5000)\n",
        "        plot_only = 500\n",
        "        low_dim_embs = tsne.fit_transform(last_layer.data.numpy()[:plot_only, :])\n",
        "        labels = test_y.numpy()[:plot_only]\n",
        "        plot_with_labels(low_dim_embs, labels)\n",
        "\n",
        "plt.ioff()"
      ]
    },
    {
      "cell_type": "code",
      "execution_count": 35,
      "metadata": {
        "colab": {
          "base_uri": "https://localhost:8080/",
          "height": 51
        },
        "colab_type": "code",
        "id": "wjKjFhIIZosU",
        "outputId": "4e5c54a0-0135-4dd5-c6ef-dab95f89387c"
      },
      "outputs": [
        {
          "name": "stdout",
          "output_type": "stream",
          "text": [
            "[7 2 1 0 4 1 4 9 5 9] prediction number\n",
            "[7 2 1 0 4 1 4 9 5 9] real number\n"
          ]
        }
      ],
      "source": [
        "# print 10 predictions from test data\n",
        "test_output, _ = cnn(test_x[:10])\n",
        "pred_y = torch.max(test_output, 1)[1].data.numpy()\n",
        "print(pred_y,'prediction number')\n",
        "print(test_y[:10].numpy(),'real number')"
      ]
    }
  ]
}